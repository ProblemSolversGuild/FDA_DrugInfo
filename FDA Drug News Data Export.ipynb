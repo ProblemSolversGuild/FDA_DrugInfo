{
 "cells": [
  {
   "cell_type": "markdown",
   "id": "e170c26a",
   "metadata": {},
   "source": [
    "# FDA Drug News"
   ]
  },
  {
   "cell_type": "markdown",
   "id": "71dd10f4",
   "metadata": {},
   "source": [
    "### Import Libraries"
   ]
  },
  {
   "cell_type": "code",
   "execution_count": 38,
   "id": "ed8c0dd6",
   "metadata": {},
   "outputs": [],
   "source": [
    "import requests\n",
    "import datetime\n",
    "import json\n",
    "import pandas as pd\n",
    "from pathlib import Path\n",
    "from bs4 import BeautifulSoup"
   ]
  },
  {
   "cell_type": "code",
   "execution_count": 88,
   "id": "0cc104d7",
   "metadata": {},
   "outputs": [],
   "source": [
    "config=json.load(Path('config.json').open())"
   ]
  },
  {
   "cell_type": "code",
   "execution_count": 45,
   "id": "49405132",
   "metadata": {},
   "outputs": [],
   "source": [
    "today = datetime.datetime.today()\n",
    "yesterday = today - datetime.timedelta(days=1)"
   ]
  },
  {
   "cell_type": "markdown",
   "id": "32f45d70",
   "metadata": {},
   "source": [
    "### Call main drug news site with filter for current month (Probably need to refine date selection)"
   ]
  },
  {
   "cell_type": "markdown",
   "id": "f3aebaef",
   "metadata": {},
   "source": [
    "This grabs the information as of the previous day's month and year. If this is ran on the first of the month, it would only return previous month.  If it is ran on any other day it will be current month.  \n",
    "This may need to be modified?"
   ]
  },
  {
   "cell_type": "code",
   "execution_count": 46,
   "id": "6b0fc422",
   "metadata": {},
   "outputs": [],
   "source": [
    "response = requests.get(config['uri']+f'/scripts/cder/daf/index.cfm?event=reportsSearch.process&rptName=0&reportSelectMonth={yesterday.month}&reportSelectYear={yesterday.year}')"
   ]
  },
  {
   "cell_type": "code",
   "execution_count": 47,
   "id": "94997b5c",
   "metadata": {},
   "outputs": [],
   "source": [
    "bs = BeautifulSoup(response.text)"
   ]
  },
  {
   "cell_type": "code",
   "execution_count": 48,
   "id": "f1cf69a5",
   "metadata": {},
   "outputs": [],
   "source": [
    "drug_news_table = bs.find('table', attrs={'summary':'FDA Approved Drug Products'})"
   ]
  },
  {
   "cell_type": "code",
   "execution_count": 49,
   "id": "931d16af",
   "metadata": {},
   "outputs": [],
   "source": [
    "df = pd.read_html(str(drug_news_table))[0]"
   ]
  },
  {
   "cell_type": "code",
   "execution_count": 50,
   "id": "fc999b5e",
   "metadata": {
    "scrolled": true
   },
   "outputs": [],
   "source": [
    "drug_links = [config['uri'] + link.attrs['href'] for link in drug_news_table.find_all('a') if 'scripts' in str(link)]"
   ]
  },
  {
   "cell_type": "code",
   "execution_count": 51,
   "id": "9399274c",
   "metadata": {
    "scrolled": true
   },
   "outputs": [],
   "source": [
    "df['Drug Links'] = drug_links"
   ]
  },
  {
   "cell_type": "markdown",
   "id": "0f691e32",
   "metadata": {},
   "source": [
    "### Call each drug individually to get the label and letter pdf urls"
   ]
  },
  {
   "cell_type": "markdown",
   "id": "6b17f747",
   "metadata": {},
   "source": [
    "#### find_label_pdf\n",
    "> This function takes a list of urls and returns the one that has label in it.  If none of them have label, returns None"
   ]
  },
  {
   "cell_type": "code",
   "execution_count": 52,
   "id": "1219c220",
   "metadata": {},
   "outputs": [],
   "source": [
    "def find_label_pdf(url_list):\n",
    "    for url in url_list:\n",
    "        if 'label' in url:\n",
    "            return url\n",
    "    return None"
   ]
  },
  {
   "cell_type": "markdown",
   "id": "6c77323a",
   "metadata": {},
   "source": [
    "#### find_letter_pdf\n",
    "> This function takes a list of urls and returns the one that has letter in it.  If none of them have letter, returns None"
   ]
  },
  {
   "cell_type": "code",
   "execution_count": 53,
   "id": "33417999",
   "metadata": {},
   "outputs": [],
   "source": [
    "def find_letter_pdf(url_list):\n",
    "    for url in url_list:\n",
    "        if 'letter' in url:\n",
    "            return url\n",
    "    return None"
   ]
  },
  {
   "cell_type": "markdown",
   "id": "055086ca",
   "metadata": {},
   "source": [
    "#### determins orig vs supplemental and processes depending on that"
   ]
  },
  {
   "cell_type": "code",
   "execution_count": 54,
   "id": "349f07d4",
   "metadata": {
    "scrolled": false
   },
   "outputs": [],
   "source": [
    "urls=[]\n",
    "full_drug_specific_df = pd.DataFrame()\n",
    "for i,row in df.iterrows():\n",
    "    drug_link = row['Drug Links']\n",
    "    response_data = requests.get(drug_link)\n",
    "    drug_specific_page = BeautifulSoup(response_data.text)\n",
    "    \n",
    "    ####if supplement then 'Supplement Categories or Approval Type'\n",
    "    ####if original then 'Submision Classification'\n",
    "    ####'Submission/Approval Type'\n",
    "    if row.Submission.split('-')[0] == 'SUPPL':\n",
    "        drug_specific_df = pd.read_html(drug_specific_page.find('table', attrs={'summary':'Supplements'}).prettify())[0]\n",
    "        drug_specific_df.rename({'Supplement Categories or Approval Type':'Submission/Approval Type'}, inplace=True, axis=1) #rename columns here\n",
    "    elif row.Submission.split('-')[0] == 'ORIG':\n",
    "        drug_specific_df = pd.read_html(drug_specific_page.find('table', attrs={'summary':'Original Approvals or Tentative Approvals'}).prettify())[0]\n",
    "        drug_specific_df.rename({'Notes':'Note','Submission Classification':'Submission/Approval Type'}, inplace=True, axis=1)\n",
    "    if str(type(drug_specific_df.Url[0])) == \"<class 'str'>\":\n",
    "        url_list = drug_specific_df['Url'][0].split(' ')\n",
    "        label_pdf = find_label_pdf(url_list)\n",
    "        letter_pdf = find_letter_pdf(url_list)\n",
    "    else:\n",
    "        label_pdf = None \n",
    "        letter_pdf = None\n",
    "    drug_specific_df['Label PDF'] = label_pdf\n",
    "    drug_specific_df['Letter PDF'] = letter_pdf\n",
    "    drug_specific_df['Drug Links'] = drug_link\n",
    "    full_drug_specific_df = pd.concat((full_drug_specific_df, drug_specific_df))"
   ]
  },
  {
   "cell_type": "markdown",
   "id": "b8b60fae",
   "metadata": {},
   "source": [
    "### Combine the data from the two pages"
   ]
  },
  {
   "cell_type": "code",
   "execution_count": 55,
   "id": "19bf7267",
   "metadata": {},
   "outputs": [],
   "source": [
    "final_df = pd.merge(df, full_drug_specific_df, left_on='Drug Links', right_on='Drug Links')"
   ]
  },
  {
   "cell_type": "code",
   "execution_count": 56,
   "id": "cfe67047",
   "metadata": {},
   "outputs": [],
   "source": [
    "#Use the first page Submission information to select the correct row to match the second line of submission information\n",
    "final_df = final_df[final_df.Submission_x == final_df.Submission_y]"
   ]
  },
  {
   "cell_type": "code",
   "execution_count": 57,
   "id": "1184d5c3",
   "metadata": {},
   "outputs": [],
   "source": [
    "final_df.reset_index(drop=True, inplace=True)"
   ]
  },
  {
   "cell_type": "code",
   "execution_count": 58,
   "id": "36d3f0ab",
   "metadata": {},
   "outputs": [],
   "source": [
    "final_df.rename({'Submission_x':'Submission'}, axis=1, inplace=True)"
   ]
  },
  {
   "cell_type": "code",
   "execution_count": 59,
   "id": "c21f9110",
   "metadata": {},
   "outputs": [],
   "source": [
    "current_columns = final_df.columns"
   ]
  },
  {
   "cell_type": "code",
   "execution_count": 60,
   "id": "da6abf28",
   "metadata": {},
   "outputs": [],
   "source": [
    "columns = ['Approval Date', 'Drug Name', 'Submission', 'Active Ingredients', 'Submission Status', \n",
    "           'Review Priority; Orphan Status', 'Label PDF', 'Letter PDF', 'Company', 'Drug Links']"
   ]
  },
  {
   "cell_type": "code",
   "execution_count": 61,
   "id": "db80c2a6",
   "metadata": {},
   "outputs": [],
   "source": [
    "deleted = ['Submission Classification *', 'Action Date', 'Letters, Reviews, Labels, Patient Package Insert', 'url', 'Submission_y']"
   ]
  },
  {
   "cell_type": "code",
   "execution_count": 62,
   "id": "9893e5ce",
   "metadata": {},
   "outputs": [],
   "source": [
    "new_columns = [col for col in current_columns if col not in deleted]"
   ]
  },
  {
   "cell_type": "code",
   "execution_count": 63,
   "id": "bb3eec66",
   "metadata": {},
   "outputs": [
    {
     "data": {
      "text/plain": [
       "['Approval Date',\n",
       " 'Drug Name',\n",
       " 'Submission',\n",
       " 'Active Ingredients',\n",
       " 'Submission Status',\n",
       " 'Review Priority; Orphan Status',\n",
       " 'Label PDF',\n",
       " 'Letter PDF',\n",
       " 'Company',\n",
       " 'Drug Links']"
      ]
     },
     "execution_count": 63,
     "metadata": {},
     "output_type": "execute_result"
    }
   ],
   "source": [
    "columns"
   ]
  },
  {
   "cell_type": "code",
   "execution_count": 64,
   "id": "2ec98b2a",
   "metadata": {},
   "outputs": [
    {
     "data": {
      "text/plain": [
       "[]"
      ]
     },
     "execution_count": 64,
     "metadata": {},
     "output_type": "execute_result"
    }
   ],
   "source": [
    "[col for col in columns if col not in new_columns]"
   ]
  },
  {
   "cell_type": "code",
   "execution_count": 65,
   "id": "c21ae6bd",
   "metadata": {},
   "outputs": [],
   "source": [
    "final_df = final_df[columns].copy()"
   ]
  },
  {
   "cell_type": "markdown",
   "id": "eb04f37b",
   "metadata": {},
   "source": [
    "### Generate Output Excel File"
   ]
  },
  {
   "cell_type": "code",
   "execution_count": 66,
   "id": "ba6386d3",
   "metadata": {},
   "outputs": [],
   "source": [
    "def make_hyperlink(value):\n",
    "    if value is None:\n",
    "        return None\n",
    "    return f'=HYPERLINK(\"{value}\", \"{value}\")'"
   ]
  },
  {
   "cell_type": "code",
   "execution_count": 67,
   "id": "b1d791fc",
   "metadata": {},
   "outputs": [],
   "source": [
    "final_df['Label PDF'] = final_df['Label PDF'].apply(lambda x: make_hyperlink(x))\n",
    "final_df['Letter PDF'] = final_df['Letter PDF'].apply(lambda x: make_hyperlink(x))\n",
    "final_df['Drug Links'] = final_df['Drug Links'].apply(lambda x: make_hyperlink(x))"
   ]
  },
  {
   "cell_type": "code",
   "execution_count": 68,
   "id": "49637fd0",
   "metadata": {},
   "outputs": [],
   "source": [
    "final_df.drop_duplicates(inplace=True)"
   ]
  },
  {
   "cell_type": "code",
   "execution_count": 84,
   "id": "be77907e",
   "metadata": {},
   "outputs": [],
   "source": [
    "count=1\n",
    "fn = Path(f'output/fda_drug_info_{today.strftime(\"%Y_%m_%d\")}_{count:02}.xlsx')\n",
    "while True:\n",
    "    if fn.exists():\n",
    "        count+=1\n",
    "        fn = Path(f'output/fda_drug_info_{today.strftime(\"%Y_%m_%d\")}_{count:02}.xlsx')\n",
    "        continue\n",
    "    break\n",
    "\n",
    "final_df.to_excel(fn, index=False)"
   ]
  },
  {
   "cell_type": "markdown",
   "id": "0a791399",
   "metadata": {},
   "source": [
    "### Email Output"
   ]
  },
  {
   "cell_type": "code",
   "execution_count": 28,
   "id": "ec615705",
   "metadata": {},
   "outputs": [],
   "source": [
    "import io\n",
    "\n",
    "def export_excel(df):\n",
    "    with io.BytesIO() as buffer:\n",
    "#        writer = pd.ExcelWriter(xlsFilepath, engine='xlsxwriter')\n",
    "        with pd.ExcelWriter(buffer, engine='xlsxwriter') as writer:\n",
    "            #https://stackoverflow.com/a/36554382\n",
    "            df.to_excel(writer, index=False)\n",
    "            #Indicate workbook and worksheet for formatting\n",
    "            workbook = writer.book\n",
    "            worksheet = writer.sheets['Sheet1']\n",
    "            #Iterate through each column and set the width == the max length in that column. A padding length of 2 is also added.\n",
    "            for i, col in enumerate(df.columns):\n",
    "                # find length of column i\n",
    "                column_len = df[col].astype(str).str.len().max()\n",
    "                # Setting the length if the column header is larger\n",
    "                # than the max column value length\n",
    "                column_len = max(column_len, len(col)) + 2\n",
    "                # If a column gets extra long, chop it off\n",
    "                column_len = min(column_len, 50)\n",
    "                # set the column length\n",
    "                worksheet.set_column(i, i, column_len)\n",
    "            #writer.save()\n",
    "        return buffer.getvalue()"
   ]
  },
  {
   "cell_type": "code",
   "execution_count": 89,
   "id": "ecacaf58",
   "metadata": {},
   "outputs": [
    {
     "data": {
      "text/plain": [
       "{}"
      ]
     },
     "execution_count": 89,
     "metadata": {},
     "output_type": "execute_result"
    }
   ],
   "source": [
    "from email.mime.text import MIMEText\n",
    "from email.mime.application import MIMEApplication\n",
    "from email.mime.multipart import MIMEMultipart\n",
    "from smtplib import SMTP\n",
    "import smtplib\n",
    "import sys\n",
    "\n",
    "#filename=f'fda_drug_info_{today.strftime(\"%Y_%m_%d\")}.xlsx'\n",
    "\n",
    "# recipients = ['annaschreckbird@gmail.com'] \n",
    "# recipients = ['kevin@theproblemsolversguild.com']\n",
    "# emaillist = [elem.strip().split(',') for elem in recipients]\n",
    "emaillist = config['recipients'].split(',')\n",
    "msg = MIMEMultipart()\n",
    "msg['Subject'] = f\"FDA Drug News: {datetime.date.today().isoformat()}\"\n",
    "msg['From'] = config['smtp']['from_email']\n",
    "\n",
    "attachment = MIMEApplication(export_excel(final_df))\n",
    "attachment['Content-Disposition'] = f'attachment; filename=\"{fn.name}\"'\n",
    "msg.attach(attachment)\n",
    "\n",
    "html = f\"\"\"\\\n",
    "<html>\n",
    "  <head></head>\n",
    "  <body>\n",
    "    Brought to you by <a href=https://ProblemSolversGuild.com>The Problem Solvers Guild</a>\n",
    "  </body>\n",
    "</html>\n",
    "\"\"\"\n",
    "\n",
    "part1 = MIMEText(html, 'html')\n",
    "msg.attach(part1)\n",
    "\n",
    "server = smtplib.SMTP(config['smtp']['host'], config['smtp']['port'])\n",
    "server.starttls()\n",
    "server.login(user=config['smtp']['username'], password=config['smtp']['password'])\n",
    "server.sendmail(msg['From'], emaillist , msg.as_string())"
   ]
  },
  {
   "cell_type": "code",
   "execution_count": null,
   "id": "7066b2fc",
   "metadata": {},
   "outputs": [],
   "source": []
  }
 ],
 "metadata": {
  "kernelspec": {
   "display_name": "Python 3 (ipykernel)",
   "language": "python",
   "name": "python3"
  },
  "language_info": {
   "codemirror_mode": {
    "name": "ipython",
    "version": 3
   },
   "file_extension": ".py",
   "mimetype": "text/x-python",
   "name": "python",
   "nbconvert_exporter": "python",
   "pygments_lexer": "ipython3",
   "version": "3.9.9"
  }
 },
 "nbformat": 4,
 "nbformat_minor": 5
}
